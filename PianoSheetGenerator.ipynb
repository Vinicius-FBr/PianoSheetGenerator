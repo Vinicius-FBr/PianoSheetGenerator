{
 "cells": [
  {
   "cell_type": "code",
   "execution_count": 2,
   "id": "3f68a3f9",
   "metadata": {},
   "outputs": [],
   "source": [
    "import librosa\n",
    "import numpy as np\n",
    "import matplotlib.pyplot as plt\n",
    "import soundfile as sf\n",
    "import crepe\n",
    "from music21 import stream, note, meter, tempo, duration\n",
    "from IPython.display import display\n",
    "from ipywidgets import FileUpload"
   ]
  },
  {
   "cell_type": "markdown",
   "id": "5b65d902",
   "metadata": {},
   "source": [
    "### Upload do Arquivo do Áudio"
   ]
  },
  {
   "cell_type": "code",
   "execution_count": 5,
   "id": "1c7356ff",
   "metadata": {},
   "outputs": [
    {
     "data": {
      "application/vnd.jupyter.widget-view+json": {
       "model_id": "e7bbce7ba06b472da00f9558deaa6513",
       "version_major": 2,
       "version_minor": 0
      },
      "text/plain": [
       "FileUpload(value={}, accept='.wav', description='Upload')"
      ]
     },
     "metadata": {},
     "output_type": "display_data"
    }
   ],
   "source": [
    "uploader = FileUpload(accept='.wav', multiple=False)  # Only accept .wav files\n",
    "display(uploader)"
   ]
  },
  {
   "cell_type": "code",
   "execution_count": 6,
   "id": "0d1aa043",
   "metadata": {},
   "outputs": [
    {
     "name": "stdout",
     "output_type": "stream",
     "text": [
      "File photograph_teste02.wav uploaded and saved!\n"
     ]
    }
   ],
   "source": [
    "def save_uploaded_file(uploader):\n",
    "    if uploader.value:\n",
    "        file_name = list(uploader.value.keys())[0]\n",
    "        with open(file_name, 'wb') as f:\n",
    "            f.write(uploader.value[file_name]['content'])\n",
    "        print(f\"File {file_name} uploaded and saved!\")\n",
    "        return file_name\n",
    "    else:\n",
    "        print(\"No file uploaded!\")\n",
    "        return None\n",
    "\n",
    "arquivo_audio = save_uploaded_file(uploader)"
   ]
  },
  {
   "cell_type": "markdown",
   "id": "653ac19a",
   "metadata": {},
   "source": [
    "### Pré Processamento"
   ]
  },
  {
   "cell_type": "code",
   "execution_count": null,
   "id": "6a06d86f",
   "metadata": {},
   "outputs": [],
   "source": [
    "y, sr = sf.read(arquivo_audio, always_2d=False)\n",
    "y = y[:, 0] if y.ndim > 1 else y\n",
    "\n",
    "#  Retirar ruídos do áudio\n",
    "non_silent_intervals = librosa.effects.split(y, top_db=30)  # Adjust `top_db` for sensitivity\n",
    "y_denoised = np.concatenate([y[start:end] for start, end in non_silent_intervals])\n",
    "\n",
    "#print(f\"Shape after denoising: {y_denoised.shape}\")\n",
    "\n",
    "# Normalização do áudio\n",
    "y_normalized = librosa.util.normalize(y_denoised)\n",
    "\n",
    "#print(f\"Max amplitude after normalization: {np.max(y_normalized)}\")\n",
    "\n",
    "# Resample Audio\n",
    "\n",
    "y_resampled = librosa.resample(y_normalized, orig_sr=sr, target_sr=16000)\n",
    "\n",
    "#print(f\"Shape after resampling: {y_resampled.shape}, Resampled Rate: 16000 Hz\")"
   ]
  },
  {
   "cell_type": "markdown",
   "id": "73a56396",
   "metadata": {},
   "source": [
    "### Detecção das Notas"
   ]
  },
  {
   "cell_type": "code",
   "execution_count": null,
   "id": "641c30b2",
   "metadata": {},
   "outputs": [],
   "source": [
    "def detect_pitches_with_crepe(y_resampled, sr=16000):\n",
    "    # Run CREPE pitch detection (it returns time, frequency, and amplitude of each pitch)\n",
    "    output = crepe.predict(y_resampled, sr)\n",
    "\n",
    "    time = output[0]\n",
    "    frequency = output[1]\n",
    "\n",
    "    # You can print out the first few detected pitches for inspection\n",
    "    print(\"Detected pitch frequencies (in Hz):\")\n",
    "    print(frequency[:10])  # Print the first 10 detected frequencies\n",
    "\n",
    "    return time, frequency"
   ]
  },
  {
   "cell_type": "code",
   "execution_count": null,
   "id": "54ffd5ea",
   "metadata": {},
   "outputs": [],
   "source": [
    "def freq_to_note_with_music21(frequency):\n",
    "    if frequency <= 0:  # Handle invalid frequencies or rests\n",
    "        return \"rest\"\n",
    "    \n",
    "    p = pitch.Pitch()\n",
    "    p.frequency = frequency\n",
    "    return p.nameWithOctave  # Returns note name (e.g., \"A4\")\n",
    "\n",
    "def map_crepe_output_to_notes_with_durations(times, frequencies):\n",
    "    notes_with_durations = []\n",
    "    current_note = None\n",
    "    current_start_time = None\n",
    "\n",
    "    for i in range(len(frequencies)):\n",
    "        frequency = frequencies[i]\n",
    "        time = times[i]\n",
    "\n",
    "        # Convert frequency to note\n",
    "        note_name = freq_to_note_with_music21(frequency)\n",
    "\n",
    "        if note_name == current_note:\n",
    "            # Continue sustaining the current note\n",
    "            continue\n",
    "        else:\n",
    "            # If the note changes, finalize the previous note\n",
    "            if current_note is not None:\n",
    "                duration = time - current_start_time\n",
    "                notes_with_durations.append((current_note, duration))\n",
    "\n",
    "            # Start a new note\n",
    "            current_note = note_name\n",
    "            current_start_time = time\n",
    "\n",
    "    # Add the final note\n",
    "    if current_note is not None:\n",
    "        duration = times[-1] - current_start_time\n",
    "        notes_with_durations.append((current_note, duration))\n",
    "\n",
    "    return notes_with_durations\n"
   ]
  },
  {
   "cell_type": "code",
   "execution_count": null,
   "id": "a5894399",
   "metadata": {},
   "outputs": [],
   "source": [
    "# Detectar Pitch\n",
    "time, frequency = detect_pitches_with_crepe(y_resampled, sr=16000)\n",
    "\n",
    "plt.figure(figsize=(10, 6))\n",
    "plt.plot(time, frequency)\n",
    "plt.xlabel('Time (s)')\n",
    "plt.ylabel('Frequency (Hz)')\n",
    "plt.title('Detected Pitch Frequencies Over Time')\n",
    "plt.show()\n",
    "\n",
    "# Mapear frequencias em notas musicais\n",
    "notes_with_durations = map_crepe_output_to_notes_with_durations(times, frequencies)\n",
    "print(\"Detected notes:\")\n",
    "print(notes)"
   ]
  },
  {
   "cell_type": "markdown",
   "id": "e0c88e87",
   "metadata": {},
   "source": [
    "### Gerar Partitura"
   ]
  },
  {
   "cell_type": "code",
   "execution_count": null,
   "id": "1a7a30d0",
   "metadata": {},
   "outputs": [],
   "source": [
    "def generate_sheet_music(notes_with_durations, output_filename=\"sheet_music\"):\n",
    "    \n",
    "    score = stream.Score()\n",
    "    part = stream.Part()\n",
    "    part.append(meter.TimeSignature(\"4/4\"))\n",
    "    part.append(tempo.MetronomeMark(number=120))\n",
    "\n",
    "    for note_name, duration_in_seconds in notes_with_durations:\n",
    "        # Convert duration to a quarter-length value\n",
    "        # Assuming 120 BPM (2 seconds = 1 whole note, 1 second = half note, etc.)\n",
    "        quarter_length = duration_in_seconds * 2\n",
    "\n",
    "        if note_name == \"rest\":\n",
    "            n = note.Rest(quarterLength=quarter_length)\n",
    "        else:\n",
    "            n = note.Note(note_name)\n",
    "            n.quarterLength = quarter_length\n",
    "\n",
    "        part.append(n)\n",
    "\n",
    "    score.append(part)\n",
    "    output_file_path = f\"{output_filename}.pdf\"\n",
    "    score.write(\"pdf\", output_file_path)\n",
    "    print(f\"Sheet music saved as {output_file_path}\")"
   ]
  },
  {
   "cell_type": "code",
   "execution_count": null,
   "id": "0dcb671e",
   "metadata": {},
   "outputs": [],
   "source": [
    "generate_sheet_music(notes, output_filename=\"my_piano_sheet\")"
   ]
  }
 ],
 "metadata": {
  "kernelspec": {
   "display_name": "Python 3 (ipykernel)",
   "language": "python",
   "name": "python3"
  },
  "language_info": {
   "codemirror_mode": {
    "name": "ipython",
    "version": 3
   },
   "file_extension": ".py",
   "mimetype": "text/x-python",
   "name": "python",
   "nbconvert_exporter": "python",
   "pygments_lexer": "ipython3",
   "version": "3.10.9"
  }
 },
 "nbformat": 4,
 "nbformat_minor": 5
}
